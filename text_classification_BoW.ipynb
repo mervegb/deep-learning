{
  "nbformat": 4,
  "nbformat_minor": 0,
  "metadata": {
    "colab": {
      "provenance": [],
      "authorship_tag": "ABX9TyOEMu+ces7ilSo2H9jMapi9",
      "include_colab_link": true
    },
    "kernelspec": {
      "name": "python3",
      "display_name": "Python 3"
    },
    "language_info": {
      "name": "python"
    }
  },
  "cells": [
    {
      "cell_type": "markdown",
      "metadata": {
        "id": "view-in-github",
        "colab_type": "text"
      },
      "source": [
        "<a href=\"https://colab.research.google.com/github/mervegb/deep-learning/blob/main/text_classification_BoW.ipynb\" target=\"_parent\"><img src=\"https://colab.research.google.com/assets/colab-badge.svg\" alt=\"Open In Colab\"/></a>"
      ]
    },
    {
      "cell_type": "code",
      "execution_count": 18,
      "metadata": {
        "id": "NcFRKGe0Svfm"
      },
      "outputs": [],
      "source": [
        "import torch\n",
        "import torch.nn as nn\n",
        "import torch.optim as optim"
      ]
    },
    {
      "cell_type": "code",
      "source": [
        "vocab = {'love': 0, 'programming': 1, 'hate': 2, 'bugs': 3, \"I\":4}\n",
        "data = [\n",
        "    ('I love programming', 'positive'),\n",
        "    ('I hate bugs', 'negative')\n",
        "]"
      ],
      "metadata": {
        "id": "jP6908bQX539"
      },
      "execution_count": 55,
      "outputs": []
    },
    {
      "cell_type": "code",
      "source": [
        "#to create a BoW vector for a given sentence and\n",
        "def make_bow_vector(sentence, vocab):\n",
        "    vec = torch.zeros(len(vocab))\n",
        "    for word in sentence.split(' '):\n",
        "        if vocab.get(word) is not None:\n",
        "            vec[vocab[word]] += 1\n",
        "    return vec.view(1, -1)\n",
        "\n",
        "#map label to a number\n",
        "def make_target(label):\n",
        "    return torch.LongTensor([1 if label == 'positive' else 0])"
      ],
      "metadata": {
        "id": "t_lT8wWPX8SR"
      },
      "execution_count": 56,
      "outputs": []
    },
    {
      "cell_type": "code",
      "source": [
        "#neural network definition\n",
        "class BoWClassifier(nn.Module):\n",
        "  def __init__(self, vocab_size,num_labels):\n",
        "    super(BoWClassifier, self).__init__()\n",
        "    self.linear = nn.Linear(vocab_size, num_labels)\n",
        "\n",
        "  def forward(self,x):\n",
        "    return self.linear(x)"
      ],
      "metadata": {
        "id": "y8W67B6uYQYz"
      },
      "execution_count": 57,
      "outputs": []
    },
    {
      "cell_type": "code",
      "source": [
        "model = BoWClassifier(len(vocab), 2) #Initialize model\n",
        "\n",
        "loss_function = nn.CrossEntropyLoss() #Initialize loss\n",
        "\n",
        "optimizer = optim.SGD(model.parameters(), lr=0.1) #Initialize optimizer"
      ],
      "metadata": {
        "id": "sdbkhYwmYnH5"
      },
      "execution_count": 58,
      "outputs": []
    },
    {
      "cell_type": "code",
      "source": [
        "# Training Loop\n",
        "for epoch in range(100):\n",
        "    for sentence, label in data:\n",
        "        model.zero_grad()\n",
        "\n",
        "        bow_vec = make_bow_vector(sentence, vocab)\n",
        "        target = make_target(label)\n",
        "\n",
        "        output = model(bow_vec)\n",
        "\n",
        "        loss = loss_function(output, target)\n",
        "        loss.backward()\n",
        "        optimizer.step()\n",
        "\n",
        "# After training, use the model to classify new sentences\n",
        "def classify_sentence(sentence, model, vocab):\n",
        "    with torch.no_grad():\n",
        "        bow_vec = make_bow_vector(sentence, vocab)\n",
        "        output = model(bow_vec)\n",
        "        _, predicted = torch.max(output.data, 1)\n",
        "        return 'positive' if predicted.item() == 1 else 'negative'\n",
        "\n",
        "# Test the classify_sentence function\n",
        "new_sentence1 = \"I hate the cold\"\n",
        "new_sentence2 = \"I love cold\"\n",
        "\n",
        "print(f\"The sentence '{new_sentence1}' is {classify_sentence(new_sentence1, model, vocab)}.\")\n",
        "print(f\"The sentence '{new_sentence2}' is {classify_sentence(new_sentence2, model, vocab)}.\")\n",
        "\n",
        "#Problems with this model is, any new words will be ignored so it only recognizes words that were in its training vocabulary\n",
        "#BoW models don't consider the order of words"
      ],
      "metadata": {
        "colab": {
          "base_uri": "https://localhost:8080/"
        },
        "id": "JsWCh-cmY9RX",
        "outputId": "abbf893c-1f23-4348-8e8f-5711b79e4db1"
      },
      "execution_count": 67,
      "outputs": [
        {
          "output_type": "stream",
          "name": "stdout",
          "text": [
            "The sentence 'I hate the cold' is negative.\n",
            "The sentence 'I love cold' is positive.\n"
          ]
        }
      ]
    }
  ]
}
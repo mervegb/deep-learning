{
  "nbformat": 4,
  "nbformat_minor": 0,
  "metadata": {
    "colab": {
      "provenance": [],
      "authorship_tag": "ABX9TyOm24E4UkYQyks+fTv+NeKg",
      "include_colab_link": true
    },
    "kernelspec": {
      "name": "python3",
      "display_name": "Python 3"
    },
    "language_info": {
      "name": "python"
    }
  },
  "cells": [
    {
      "cell_type": "markdown",
      "metadata": {
        "id": "view-in-github",
        "colab_type": "text"
      },
      "source": [
        "<a href=\"https://colab.research.google.com/github/mervegb/deep-learning/blob/main/training_regression_model.ipynb\" target=\"_parent\"><img src=\"https://colab.research.google.com/assets/colab-badge.svg\" alt=\"Open In Colab\"/></a>"
      ]
    },
    {
      "cell_type": "code",
      "source": [
        "import torch\n",
        "import torch.nn as nn\n",
        "import numpy as np"
      ],
      "metadata": {
        "id": "Zelv8MGo9C8i"
      },
      "execution_count": 1,
      "outputs": []
    },
    {
      "cell_type": "code",
      "source": [
        "# Generate random data for training\n",
        "x_train = np.random.rand(100, 1)  # 100 samples, 1 feature\n",
        "y_train = 5 * x_train + 3 + 0.1 * np.random.rand(100, 1)  # Linear relation with some noise\n",
        "\n",
        "# Convert to PyTorch tensors\n",
        "x_train_tensor = torch.FloatTensor(x_train)\n",
        "y_train_tensor = torch.FloatTensor(y_train)\n"
      ],
      "metadata": {
        "id": "p22fuSkY9MfG"
      },
      "execution_count": 13,
      "outputs": []
    },
    {
      "cell_type": "code",
      "source": [
        "class LinearRegressionModel(nn.Module):\n",
        "\n",
        "  def __init__(self, inputSize,outputSize):\n",
        "    super(LinearRegressionModel, self).__init__()\n",
        "    self.linear = nn.Linear(inputSize,outputSize)\n",
        "\n",
        "  def forward(self,x):\n",
        "   return self.linear(x)"
      ],
      "metadata": {
        "id": "D8G92r6s9SS3"
      },
      "execution_count": 7,
      "outputs": []
    },
    {
      "cell_type": "code",
      "source": [
        "#initialize the Model\n",
        "inputDim = 1\n",
        "outputDim = 1\n",
        "\n",
        "model = LinearRegressionModel(inputDim,outputDim)\n",
        "\n",
        "#the loss (mean squared error)\n",
        "loss_function = nn.MSELoss()\n",
        "\n",
        "#optimization (stochastic gradient descent)\n",
        "optimizer = torch.optim.SGD(params=model.parameters(), lr=0.01)"
      ],
      "metadata": {
        "id": "ZdxhmioT-pTI"
      },
      "execution_count": 15,
      "outputs": []
    },
    {
      "cell_type": "code",
      "source": [
        "#train the model\n",
        "n_epochs = 100\n",
        "\n",
        "for epoch in range(n_epochs):\n",
        "\n",
        "  optimizer.zero_grad() #zero the gradients\n",
        "\n",
        "  #forward pass: compute predicted y by passing x to the model\n",
        "  y_pred = model(x_train_tensor)\n",
        "\n",
        "  #compute loss\n",
        "  loss = loss_function(y_pred, y_train_tensor)\n",
        "\n",
        "  #Backward pass: compute gradient of the loss with respect to the model parameters\n",
        "  loss.backward()\n",
        "\n",
        "  #Update model parameters\n",
        "  optimizer.step()\n",
        "\n",
        "  if (epoch + 1) % 10 == 0:\n",
        "        print(f'Epoch [{epoch + 1}/{n_epochs}], Loss: {loss.item():.4f}')\n"
      ],
      "metadata": {
        "colab": {
          "base_uri": "https://localhost:8080/"
        },
        "id": "f4nLBUBlA6SQ",
        "outputId": "ad8f4664-2508-4888-9ba2-978363ba09d8"
      },
      "execution_count": 24,
      "outputs": [
        {
          "output_type": "stream",
          "name": "stdout",
          "text": [
            "Epoch [10/100], Loss: 0.0712\n",
            "Epoch [20/100], Loss: 0.0692\n",
            "Epoch [30/100], Loss: 0.0672\n",
            "Epoch [40/100], Loss: 0.0653\n",
            "Epoch [50/100], Loss: 0.0634\n",
            "Epoch [60/100], Loss: 0.0616\n",
            "Epoch [70/100], Loss: 0.0598\n",
            "Epoch [80/100], Loss: 0.0581\n",
            "Epoch [90/100], Loss: 0.0564\n",
            "Epoch [100/100], Loss: 0.0548\n"
          ]
        }
      ]
    }
  ]
}
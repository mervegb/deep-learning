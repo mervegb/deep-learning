{
  "nbformat": 4,
  "nbformat_minor": 0,
  "metadata": {
    "colab": {
      "provenance": [],
      "authorship_tag": "ABX9TyNFbxDquFuvdHQbF0csyWWq",
      "include_colab_link": true
    },
    "kernelspec": {
      "name": "python3",
      "display_name": "Python 3"
    },
    "language_info": {
      "name": "python"
    }
  },
  "cells": [
    {
      "cell_type": "markdown",
      "metadata": {
        "id": "view-in-github",
        "colab_type": "text"
      },
      "source": [
        "<a href=\"https://colab.research.google.com/github/mervegb/deep-learning/blob/main/training_regression_model.ipynb\" target=\"_parent\"><img src=\"https://colab.research.google.com/assets/colab-badge.svg\" alt=\"Open In Colab\"/></a>"
      ]
    },
    {
      "cell_type": "code",
      "source": [
        "import torch\n",
        "import torch.nn as nn\n",
        "import numpy as np"
      ],
      "metadata": {
        "id": "Zelv8MGo9C8i"
      },
      "execution_count": 31,
      "outputs": []
    },
    {
      "cell_type": "code",
      "source": [
        "def generate_data(num_samples, num_features, coef=5, intercept=3, noise=0.1):\n",
        "    \"\"\"Generate synthetic data based on a linear relationship\"\"\"\n",
        "    x = np.random.rand(num_samples, num_features)\n",
        "    y = coef * x + intercept + noise * np.random.rand(num_samples, num_features)\n",
        "    return x, y\n",
        "\n",
        "# Generate and convert training data\n",
        "x_train, y_train = generate_data(100, 1)\n",
        "x_train_tensor = torch.FloatTensor(x_train)\n",
        "y_train_tensor = torch.FloatTensor(y_train)\n",
        "\n",
        "# Generate and convert evaluation (test) data\n",
        "x_test, y_test = generate_data(50, 1)\n",
        "x_test_tensor = torch.FloatTensor(x_test)\n",
        "y_test_tensor = torch.FloatTensor(y_test)"
      ],
      "metadata": {
        "id": "p22fuSkY9MfG"
      },
      "execution_count": 36,
      "outputs": []
    },
    {
      "cell_type": "code",
      "source": [
        "class LinearRegressionModel(nn.Module):\n",
        "\n",
        "  def __init__(self, inputSize,outputSize):\n",
        "    super(LinearRegressionModel, self).__init__()\n",
        "    self.linear = nn.Linear(inputSize,outputSize)\n",
        "\n",
        "  def forward(self,x):\n",
        "   return self.linear(x)"
      ],
      "metadata": {
        "id": "D8G92r6s9SS3"
      },
      "execution_count": 37,
      "outputs": []
    },
    {
      "cell_type": "code",
      "source": [
        "#initialize the Model\n",
        "inputDim = 1\n",
        "outputDim = 1\n",
        "\n",
        "model = LinearRegressionModel(inputDim,outputDim)\n",
        "\n",
        "#the loss (mean squared error)\n",
        "loss_function = nn.MSELoss()\n",
        "\n",
        "#optimization (stochastic gradient descent)\n",
        "optimizer = torch.optim.SGD(params=model.parameters(), lr=0.01)"
      ],
      "metadata": {
        "id": "ZdxhmioT-pTI"
      },
      "execution_count": 38,
      "outputs": []
    },
    {
      "cell_type": "code",
      "source": [
        "#train the model\n",
        "n_epochs = 100\n",
        "\n",
        "for epoch in range(n_epochs):\n",
        "\n",
        "  model.train() # Switch to training mode\n",
        "  optimizer.zero_grad() # Zero the gradients\n",
        "\n",
        "  # Forward pass: compute predicted y by passing x to the model\n",
        "  y_pred = model(x_train_tensor)\n",
        "\n",
        "  # Compute loss\n",
        "  loss = loss_function(y_pred, y_train_tensor)\n",
        "\n",
        "  # Backward pass: compute gradient of the loss with respect to the model parameters\n",
        "  loss.backward()\n",
        "\n",
        "  # Update model parameters\n",
        "  optimizer.step()\n",
        "\n",
        "  # Evaluation\n",
        "  model.eval() # Switch to evaluation mode\n",
        "\n",
        "  with torch.no_grad():  # Deactivates autograd, reduces memory usage and speeds up computations\n",
        "    y_pred = model(x_test_tensor) # Forward pass\n",
        "\n",
        "    test_loss = loss_function(y_pred, y_test_tensor) # Compute the loss\n",
        "\n",
        "  if epoch % 10 == 0:\n",
        "    print(f\"Epoch: {epoch} | Train loss: {loss.item():.4f} | Test loss: {test_loss.item():.4f}\")\n"
      ],
      "metadata": {
        "colab": {
          "base_uri": "https://localhost:8080/"
        },
        "id": "f4nLBUBlA6SQ",
        "outputId": "48378006-4dcc-4045-bc9e-5db214d5e5b7"
      },
      "execution_count": 40,
      "outputs": [
        {
          "output_type": "stream",
          "name": "stdout",
          "text": [
            "Epoch: 0 | Train loss: 0.4756 | Test loss: 0.5782\n",
            "Epoch: 10 | Train loss: 0.3979 | Test loss: 0.4787\n",
            "Epoch: 20 | Train loss: 0.3489 | Test loss: 0.4129\n",
            "Epoch: 30 | Train loss: 0.3170 | Test loss: 0.3682\n",
            "Epoch: 40 | Train loss: 0.2954 | Test loss: 0.3367\n",
            "Epoch: 50 | Train loss: 0.2801 | Test loss: 0.3138\n",
            "Epoch: 60 | Train loss: 0.2685 | Test loss: 0.2964\n",
            "Epoch: 70 | Train loss: 0.2593 | Test loss: 0.2826\n",
            "Epoch: 80 | Train loss: 0.2515 | Test loss: 0.2714\n",
            "Epoch: 90 | Train loss: 0.2446 | Test loss: 0.2618\n"
          ]
        }
      ]
    }
  ]
}
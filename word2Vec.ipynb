{
  "nbformat": 4,
  "nbformat_minor": 0,
  "metadata": {
    "colab": {
      "provenance": [],
      "authorship_tag": "ABX9TyOqMjJDDgEV5yXCbozyF5cI",
      "include_colab_link": true
    },
    "kernelspec": {
      "name": "python3",
      "display_name": "Python 3"
    },
    "language_info": {
      "name": "python"
    }
  },
  "cells": [
    {
      "cell_type": "markdown",
      "metadata": {
        "id": "view-in-github",
        "colab_type": "text"
      },
      "source": [
        "<a href=\"https://colab.research.google.com/github/mervegb/deep-learning/blob/main/word2Vec.ipynb\" target=\"_parent\"><img src=\"https://colab.research.google.com/assets/colab-badge.svg\" alt=\"Open In Colab\"/></a>"
      ]
    },
    {
      "cell_type": "code",
      "source": [
        "import torch\n",
        "import torch.nn as nn\n",
        "import torch.optim as optim\n",
        "\n",
        "from sklearn.metrics.pairwise import cosine_similarity\n",
        "import numpy as np\n",
        "\n",
        "import matplotlib.pyplot as plt\n"
      ],
      "metadata": {
        "id": "MQaaAr8z00iB"
      },
      "execution_count": 106,
      "outputs": []
    },
    {
      "cell_type": "code",
      "source": [
        "corpus = [\n",
        "    'he is a king',\n",
        "    'she is a queen',\n",
        "    'he is a man',\n",
        "    'she is a woman',\n",
        "    'warsaw is poland capital',\n",
        "    'berlin is germany capital',\n",
        "    'paris is france capital',\n",
        "]"
      ],
      "metadata": {
        "id": "AU_MZcMg061_"
      },
      "execution_count": 65,
      "outputs": []
    },
    {
      "cell_type": "code",
      "source": [
        "# We iterate over tokens in corpus and generate list of unique words (tokens)\n",
        "def tokenize_corpus(corpus):\n",
        "  tokens = [x.split() for x in corpus]\n",
        "  return tokens\n",
        "\n",
        "tokenized_corpus = tokenize_corpus(corpus)\n",
        "print(tokenized_corpus)"
      ],
      "metadata": {
        "colab": {
          "base_uri": "https://localhost:8080/"
        },
        "id": "j2l8e4KTcRd2",
        "outputId": "5212aea3-ed3d-4a2d-826c-c251ce9b4973"
      },
      "execution_count": 67,
      "outputs": [
        {
          "output_type": "stream",
          "name": "stdout",
          "text": [
            "[['he', 'is', 'a', 'king'], ['she', 'is', 'a', 'queen'], ['he', 'is', 'a', 'man'], ['she', 'is', 'a', 'woman'], ['warsaw', 'is', 'poland', 'capital'], ['berlin', 'is', 'germany', 'capital'], ['paris', 'is', 'france', 'capital']]\n"
          ]
        }
      ]
    },
    {
      "cell_type": "code",
      "source": [
        "# Next, we create two dictionaries for mapping between word and index\n",
        "vocabulary = []\n",
        "for sentence in tokenized_corpus:\n",
        "  for token in sentence:\n",
        "    if token not in vocabulary:\n",
        "      vocabulary.append(token)\n",
        "\n",
        "word2idx = {w: idx for (idx,w) in enumerate(vocabulary)}\n",
        "idx2word = {idx: w for (idx,w) in enumerate(vocabulary)}\n",
        "\n",
        "vocabulary_size = len(vocabulary)\n",
        "\n",
        "print(word2idx)\n",
        "print(idx2word)\n",
        "print(vocabulary_size)"
      ],
      "metadata": {
        "colab": {
          "base_uri": "https://localhost:8080/"
        },
        "id": "M3WXn_cVcZYY",
        "outputId": "7e9f2cc2-f12c-47e4-9d21-254f30a82d38"
      },
      "execution_count": 71,
      "outputs": [
        {
          "output_type": "stream",
          "name": "stdout",
          "text": [
            "{'he': 0, 'is': 1, 'a': 2, 'king': 3, 'she': 4, 'queen': 5, 'man': 6, 'woman': 7, 'warsaw': 8, 'poland': 9, 'capital': 10, 'berlin': 11, 'germany': 12, 'paris': 13, 'france': 14}\n",
            "{0: 'he', 1: 'is', 2: 'a', 3: 'king', 4: 'she', 5: 'queen', 6: 'man', 7: 'woman', 8: 'warsaw', 9: 'poland', 10: 'capital', 11: 'berlin', 12: 'germany', 13: 'paris', 14: 'france'}\n",
            "15\n"
          ]
        }
      ]
    },
    {
      "cell_type": "code",
      "source": [
        "window_size = 2  # we will use two words to the left and two words to the right\n",
        "training_data = []\n",
        "\n",
        "for sentence in tokenized_corpus:\n",
        "  for idx, target_word in enumerate(sentence):\n",
        "    context = []\n",
        "    for w in range(-window_size, window_size + 1):\n",
        "      context_idx = idx + w\n",
        "      if w == 0 or context_idx < 0 or context_idx >= len(sentence):\n",
        "        continue\n",
        "      context_word = sentence[context_idx]\n",
        "      training_data.append((target_word, context_word))\n",
        "\n",
        "print(training_data)\n"
      ],
      "metadata": {
        "colab": {
          "base_uri": "https://localhost:8080/"
        },
        "id": "onP27Z83eM7m",
        "outputId": "efecc442-3d1b-43a6-9fb6-a7022784d68c"
      },
      "execution_count": 72,
      "outputs": [
        {
          "output_type": "stream",
          "name": "stdout",
          "text": [
            "[('he', 'is'), ('he', 'a'), ('is', 'he'), ('is', 'a'), ('is', 'king'), ('a', 'he'), ('a', 'is'), ('a', 'king'), ('king', 'is'), ('king', 'a'), ('she', 'is'), ('she', 'a'), ('is', 'she'), ('is', 'a'), ('is', 'queen'), ('a', 'she'), ('a', 'is'), ('a', 'queen'), ('queen', 'is'), ('queen', 'a'), ('he', 'is'), ('he', 'a'), ('is', 'he'), ('is', 'a'), ('is', 'man'), ('a', 'he'), ('a', 'is'), ('a', 'man'), ('man', 'is'), ('man', 'a'), ('she', 'is'), ('she', 'a'), ('is', 'she'), ('is', 'a'), ('is', 'woman'), ('a', 'she'), ('a', 'is'), ('a', 'woman'), ('woman', 'is'), ('woman', 'a'), ('warsaw', 'is'), ('warsaw', 'poland'), ('is', 'warsaw'), ('is', 'poland'), ('is', 'capital'), ('poland', 'warsaw'), ('poland', 'is'), ('poland', 'capital'), ('capital', 'is'), ('capital', 'poland'), ('berlin', 'is'), ('berlin', 'germany'), ('is', 'berlin'), ('is', 'germany'), ('is', 'capital'), ('germany', 'berlin'), ('germany', 'is'), ('germany', 'capital'), ('capital', 'is'), ('capital', 'germany'), ('paris', 'is'), ('paris', 'france'), ('is', 'paris'), ('is', 'france'), ('is', 'capital'), ('france', 'paris'), ('france', 'is'), ('france', 'capital'), ('capital', 'is'), ('capital', 'france')]\n"
          ]
        }
      ]
    },
    {
      "cell_type": "code",
      "source": [
        "embedding_size = 10\n",
        "learning_rate = 0.01\n",
        "\n",
        "class SkipGram(nn.Module):\n",
        "  def __init__(self, vocab_size,embedding_size):\n",
        "    super(SkipGram,self).__init__()\n",
        "    self.embeddings = nn.Embedding(vocab_size, embedding_size)\n",
        "    self.linear = nn.Linear(embedding_size,vocab_size)\n",
        "    self.activation_function = nn.LogSoftmax(dim=-1)\n",
        "\n",
        " #Output Size => vocabulary size\n",
        " #Because we are trying to predict the likelihood of each word in the vocabulary being in the context of the input word\n",
        " #so we need as many output units as there are unique words in my vocabulary\n",
        "\n",
        "\n",
        "#Softmax function converts raw outputs (logits) into probabilities for each class\n",
        "#This is often used in multi-class classification problems\n",
        "\n",
        "  def forward(self,target_word):\n",
        "    embedded_word = self.embeddings(target_word)\n",
        "    out = self.linear(embedded_word)\n",
        "    out = self.activation_function(out)\n",
        "    return out"
      ],
      "metadata": {
        "id": "6x1P-TW3fIsl"
      },
      "execution_count": 77,
      "outputs": []
    },
    {
      "cell_type": "code",
      "source": [
        "# Convert training data to PyTorch tensors\n",
        "train_indices = torch.tensor([word2idx[w[0]] for w in training_data], dtype=torch.long)\n",
        "label_indices = torch.tensor([word2idx[w[1]] for w in training_data], dtype=torch.long)"
      ],
      "metadata": {
        "id": "bhVWdWp6f3Cm"
      },
      "execution_count": 78,
      "outputs": []
    },
    {
      "cell_type": "code",
      "source": [
        "skip_gram_model = SkipGram(vocabulary_size, embedding_size)\n",
        "criterion = nn.NLLLoss()\n",
        "\n",
        "#Negative Log-Likelihood (NLL) Loss is commonly used in conjuction with LogSoftmax\n",
        "#for classification problems. NLL Loss measures the divergence between the predicted probabilities and the actual labels\n",
        "\n",
        "optimizer = optim.SGD(skip_gram_model.parameters(), lr=learning_rate)"
      ],
      "metadata": {
        "id": "7WUnUgMyf5i-"
      },
      "execution_count": 81,
      "outputs": []
    },
    {
      "cell_type": "code",
      "source": [
        "# Function to evaluate word vectors using cosine similarity\n",
        "def evaluate_word_vectors(embeddings, word1, word2, word2idx):\n",
        "    idx1, idx2 = word2idx[word1], word2idx[word2]\n",
        "    word_vec1 = embeddings(torch.tensor(idx1)).detach().numpy().reshape(1, -1)\n",
        "    word_vec2 = embeddings(torch.tensor(idx2)).detach().numpy().reshape(1, -1)\n",
        "    similarity = cosine_similarity(word_vec1, word_vec2)\n",
        "    return similarity\n",
        "\n",
        "\n",
        "#Cosine similarity will tell us how similar two word vectors are\n",
        "#Ideally similar words should have vectors that are close to each other in the embedding space"
      ],
      "metadata": {
        "id": "8YarYKvdiGxW"
      },
      "execution_count": 84,
      "outputs": []
    },
    {
      "cell_type": "code",
      "source": [
        "# Train model and evaluate\n",
        "similarity_values = []\n",
        "\n",
        "for epoch in range(100):\n",
        "    optimizer.zero_grad()\n",
        "    out = skip_gram_model(train_indices)\n",
        "    loss = criterion(out, label_indices)\n",
        "    loss.backward()\n",
        "    optimizer.step()\n",
        "\n",
        "    print(f'Epoch {epoch+1}, Loss: {loss.item()}')\n",
        "\n",
        "    # Evaluate every 20 epochs\n",
        "    if (epoch + 1) % 20 == 0:\n",
        "      sim = evaluate_word_vectors(skip_gram_model.embeddings, 'king', 'queen', word2idx)\n",
        "      print(f\"Cosine similarity between 'king' and 'queen': {sim[0][0]}\")\n",
        "      similarity_values.append(sim[0][0])\n"
      ],
      "metadata": {
        "colab": {
          "base_uri": "https://localhost:8080/"
        },
        "id": "bGCiNqz_f8gx",
        "outputId": "f0674736-f83e-471d-88b0-2dcc55af339d"
      },
      "execution_count": 110,
      "outputs": [
        {
          "output_type": "stream",
          "name": "stdout",
          "text": [
            "Epoch 1, Loss: 1.6213288307189941\n",
            "Epoch 2, Loss: 1.6213008165359497\n",
            "Epoch 3, Loss: 1.6212725639343262\n",
            "Epoch 4, Loss: 1.6212445497512817\n",
            "Epoch 5, Loss: 1.6212162971496582\n",
            "Epoch 6, Loss: 1.6211884021759033\n",
            "Epoch 7, Loss: 1.6211603879928589\n",
            "Epoch 8, Loss: 1.6211323738098145\n",
            "Epoch 9, Loss: 1.6211042404174805\n",
            "Epoch 10, Loss: 1.6210761070251465\n",
            "Epoch 11, Loss: 1.6210483312606812\n",
            "Epoch 12, Loss: 1.6210200786590576\n",
            "Epoch 13, Loss: 1.6209920644760132\n",
            "Epoch 14, Loss: 1.6209641695022583\n",
            "Epoch 15, Loss: 1.6209362745285034\n",
            "Epoch 16, Loss: 1.6209081411361694\n",
            "Epoch 17, Loss: 1.6208802461624146\n",
            "Epoch 18, Loss: 1.6208523511886597\n",
            "Epoch 19, Loss: 1.6208244562149048\n",
            "Epoch 20, Loss: 1.6207964420318604\n",
            "Cosine similarity between 'king' and 'queen': 0.24551686644554138\n",
            "Epoch 21, Loss: 1.620768666267395\n",
            "Epoch 22, Loss: 1.620740532875061\n",
            "Epoch 23, Loss: 1.6207128763198853\n",
            "Epoch 24, Loss: 1.6206848621368408\n",
            "Epoch 25, Loss: 1.620656967163086\n",
            "Epoch 26, Loss: 1.6206289529800415\n",
            "Epoch 27, Loss: 1.6206014156341553\n",
            "Epoch 28, Loss: 1.6205735206604004\n",
            "Epoch 29, Loss: 1.6205456256866455\n",
            "Epoch 30, Loss: 1.6205178499221802\n",
            "Epoch 31, Loss: 1.6204900741577148\n",
            "Epoch 32, Loss: 1.6204620599746704\n",
            "Epoch 33, Loss: 1.6204344034194946\n",
            "Epoch 34, Loss: 1.6204065084457397\n",
            "Epoch 35, Loss: 1.6203787326812744\n",
            "Epoch 36, Loss: 1.620350956916809\n",
            "Epoch 37, Loss: 1.6203234195709229\n",
            "Epoch 38, Loss: 1.6202954053878784\n",
            "Epoch 39, Loss: 1.6202678680419922\n",
            "Epoch 40, Loss: 1.6202398538589478\n",
            "Cosine similarity between 'king' and 'queen': 0.24593254923820496\n",
            "Epoch 41, Loss: 1.6202125549316406\n",
            "Epoch 42, Loss: 1.6201847791671753\n",
            "Epoch 43, Loss: 1.6201568841934204\n",
            "Epoch 44, Loss: 1.6201292276382446\n",
            "Epoch 45, Loss: 1.6201015710830688\n",
            "Epoch 46, Loss: 1.6200737953186035\n",
            "Epoch 47, Loss: 1.6200463771820068\n",
            "Epoch 48, Loss: 1.6200186014175415\n",
            "Epoch 49, Loss: 1.6199909448623657\n",
            "Epoch 50, Loss: 1.61996328830719\n",
            "Epoch 51, Loss: 1.6199358701705933\n",
            "Epoch 52, Loss: 1.6199079751968384\n",
            "Epoch 53, Loss: 1.6198804378509521\n",
            "Epoch 54, Loss: 1.6198527812957764\n",
            "Epoch 55, Loss: 1.6198253631591797\n",
            "Epoch 56, Loss: 1.6197975873947144\n",
            "Epoch 57, Loss: 1.6197704076766968\n",
            "Epoch 58, Loss: 1.619742751121521\n",
            "Epoch 59, Loss: 1.6197150945663452\n",
            "Epoch 60, Loss: 1.6196874380111694\n",
            "Cosine similarity between 'king' and 'queen': 0.24634674191474915\n",
            "Epoch 61, Loss: 1.6196600198745728\n",
            "Epoch 62, Loss: 1.6196324825286865\n",
            "Epoch 63, Loss: 1.6196049451828003\n",
            "Epoch 64, Loss: 1.6195776462554932\n",
            "Epoch 65, Loss: 1.6195499897003174\n",
            "Epoch 66, Loss: 1.6195225715637207\n",
            "Epoch 67, Loss: 1.6194950342178345\n",
            "Epoch 68, Loss: 1.6194677352905273\n",
            "Epoch 69, Loss: 1.6194403171539307\n",
            "Epoch 70, Loss: 1.619412899017334\n",
            "Epoch 71, Loss: 1.6193854808807373\n",
            "Epoch 72, Loss: 1.6193580627441406\n",
            "Epoch 73, Loss: 1.619330644607544\n",
            "Epoch 74, Loss: 1.6193031072616577\n",
            "Epoch 75, Loss: 1.6192758083343506\n",
            "Epoch 76, Loss: 1.6192485094070435\n",
            "Epoch 77, Loss: 1.6192210912704468\n",
            "Epoch 78, Loss: 1.6191935539245605\n",
            "Epoch 79, Loss: 1.6191662549972534\n",
            "Epoch 80, Loss: 1.6191390752792358\n",
            "Cosine similarity between 'king' and 'queen': 0.2467593401670456\n",
            "Epoch 81, Loss: 1.6191116571426392\n",
            "Epoch 82, Loss: 1.619084358215332\n",
            "Epoch 83, Loss: 1.619057297706604\n",
            "Epoch 84, Loss: 1.6190297603607178\n",
            "Epoch 85, Loss: 1.6190024614334106\n",
            "Epoch 86, Loss: 1.618975281715393\n",
            "Epoch 87, Loss: 1.618947982788086\n",
            "Epoch 88, Loss: 1.6189205646514893\n",
            "Epoch 89, Loss: 1.6188933849334717\n",
            "Epoch 90, Loss: 1.6188663244247437\n",
            "Epoch 91, Loss: 1.6188390254974365\n",
            "Epoch 92, Loss: 1.618811845779419\n",
            "Epoch 93, Loss: 1.6187845468521118\n",
            "Epoch 94, Loss: 1.6187573671340942\n",
            "Epoch 95, Loss: 1.6187301874160767\n",
            "Epoch 96, Loss: 1.618703007698059\n",
            "Epoch 97, Loss: 1.6186758279800415\n",
            "Epoch 98, Loss: 1.618648648262024\n",
            "Epoch 99, Loss: 1.6186217069625854\n",
            "Epoch 100, Loss: 1.6185945272445679\n",
            "Cosine similarity between 'king' and 'queen': 0.24717028439044952\n"
          ]
        }
      ]
    },
    {
      "cell_type": "code",
      "source": [
        "plt.plot(range(0, 100, 20), similarity_values)\n",
        "plt.xlabel('Epoch')\n",
        "plt.ylabel('Cosine Similarity')\n",
        "plt.title(\"Cosine Similarity Between 'King' and 'Queen' Over Epochs\")\n",
        "plt.show()"
      ],
      "metadata": {
        "colab": {
          "base_uri": "https://localhost:8080/",
          "height": 472
        },
        "id": "avXqgvpSjk0A",
        "outputId": "dc2ef8dd-c905-4403-a450-ee11be24031a"
      },
      "execution_count": 111,
      "outputs": [
        {
          "output_type": "display_data",
          "data": {
            "text/plain": [
              "<Figure size 640x480 with 1 Axes>"
            ],
            "image/png": "[encoded data removed]"
          },
          "metadata": {}
        }
      ]
    },
    {
      "cell_type": "markdown",
      "source": [
        "# Skip-Gram\n",
        "- It is used for learning word embeddings that capture semantic meaning of words based on their context in a given text corpus\n",
        "\n",
        "- Simple neural network with an input layer, embedding layer and an output layer\n",
        "\n",
        "- The model takes a target word as input and tries to predict surrounding context words as output\n",
        "\n"
      ],
      "metadata": {
        "id": "zb_Z_QaQj-PV"
      }
    }
  ]
}